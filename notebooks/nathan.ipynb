{
 "cells": [
  {
   "cell_type": "code",
   "execution_count": 1,
   "id": "799c3d35",
   "metadata": {},
   "outputs": [],
   "source": [
    "from shapely.geometry import Point\n",
    "import pandas as pd\n",
    "import geopandas as gpd\n",
    "import matplotlib.pyplot as plt\n",
    "import folium\n",
    "from folium.plugins import MarkerCluster\n",
    "from folium.plugins import FastMarkerCluster"
   ]
  },
  {
   "cell_type": "code",
   "execution_count": 2,
   "id": "4230a643",
   "metadata": {},
   "outputs": [
    {
     "name": "stdout",
     "output_type": "stream",
     "text": [
      "epsg:4326\n"
     ]
    },
    {
     "data": {
      "text/html": [
       "<div>\n",
       "<style scoped>\n",
       "    .dataframe tbody tr th:only-of-type {\n",
       "        vertical-align: middle;\n",
       "    }\n",
       "\n",
       "    .dataframe tbody tr th {\n",
       "        vertical-align: top;\n",
       "    }\n",
       "\n",
       "    .dataframe thead th {\n",
       "        text-align: right;\n",
       "    }\n",
       "</style>\n",
       "<table border=\"1\" class=\"dataframe\">\n",
       "  <thead>\n",
       "    <tr style=\"text-align: right;\">\n",
       "      <th></th>\n",
       "      <th>number</th>\n",
       "      <th>location</th>\n",
       "      <th>latitude</th>\n",
       "      <th>marker_name</th>\n",
       "      <th>marker_text</th>\n",
       "      <th>longitude</th>\n",
       "      <th>year_erected</th>\n",
       "      <th>condition</th>\n",
       "      <th>notes</th>\n",
       "      <th>civil_war_site</th>\n",
       "      <th>geometry</th>\n",
       "    </tr>\n",
       "  </thead>\n",
       "  <tbody>\n",
       "    <tr>\n",
       "      <th>0</th>\n",
       "      <td>6</td>\n",
       "      <td>4618 Lealand Lane</td>\n",
       "      <td>36.086311</td>\n",
       "      <td>Battle of Nashville Stewart's Line</td>\n",
       "      <td>Loring's division of Stewart's Corps, Hood's C...</td>\n",
       "      <td>-86.791167</td>\n",
       "      <td>1968</td>\n",
       "      <td>None</td>\n",
       "      <td>None</td>\n",
       "      <td>TRUE</td>\n",
       "      <td>POINT (-86.79117 36.08631)</td>\n",
       "    </tr>\n",
       "    <tr>\n",
       "      <th>1</th>\n",
       "      <td>90</td>\n",
       "      <td>2000 Edgehill Avenue</td>\n",
       "      <td>36.14399</td>\n",
       "      <td>University School of Nashville</td>\n",
       "      <td>Founded in 1915 as the successor to The Winthr...</td>\n",
       "      <td>-86.798228</td>\n",
       "      <td>1992</td>\n",
       "      <td>None</td>\n",
       "      <td>None</td>\n",
       "      <td>None</td>\n",
       "      <td>POINT (-86.79823 36.14399)</td>\n",
       "    </tr>\n",
       "    <tr>\n",
       "      <th>2</th>\n",
       "      <td>168</td>\n",
       "      <td>621 Hill Road</td>\n",
       "      <td>36.047802</td>\n",
       "      <td>May-granbery House and Alford Cemetery</td>\n",
       "      <td>Revolutionary War Pvt. John Alford built a two...</td>\n",
       "      <td>-86.754991</td>\n",
       "      <td>2018</td>\n",
       "      <td>None</td>\n",
       "      <td>Council District 4</td>\n",
       "      <td>None</td>\n",
       "      <td>POINT (-86.75499 36.04780)</td>\n",
       "    </tr>\n",
       "    <tr>\n",
       "      <th>3</th>\n",
       "      <td>19</td>\n",
       "      <td>Meharry Medical College, D.B. Todd Boulvard en...</td>\n",
       "      <td>36.16677</td>\n",
       "      <td>Meharry Medical College</td>\n",
       "      <td>Meharry Medical College, established in 1876 t...</td>\n",
       "      <td>-86.805937</td>\n",
       "      <td>1969</td>\n",
       "      <td>None</td>\n",
       "      <td>replaced 2012</td>\n",
       "      <td>None</td>\n",
       "      <td>POINT (-86.80594 36.16677)</td>\n",
       "    </tr>\n",
       "    <tr>\n",
       "      <th>4</th>\n",
       "      <td>29</td>\n",
       "      <td>Hospital Drive off of Neely's Bend Road, Madison</td>\n",
       "      <td>36.250539</td>\n",
       "      <td>Madison College</td>\n",
       "      <td>Madison College was founded in 1904 as Nashvil...</td>\n",
       "      <td>-86.683834</td>\n",
       "      <td>1970</td>\n",
       "      <td>None</td>\n",
       "      <td>None</td>\n",
       "      <td>None</td>\n",
       "      <td>POINT (-86.68383 36.25054)</td>\n",
       "    </tr>\n",
       "  </tbody>\n",
       "</table>\n",
       "</div>"
      ],
      "text/plain": [
       "  number                                           location   latitude  \\\n",
       "0      6                                  4618 Lealand Lane  36.086311   \n",
       "1     90                               2000 Edgehill Avenue   36.14399   \n",
       "2    168                                      621 Hill Road  36.047802   \n",
       "3     19  Meharry Medical College, D.B. Todd Boulvard en...   36.16677   \n",
       "4     29   Hospital Drive off of Neely's Bend Road, Madison  36.250539   \n",
       "\n",
       "                              marker_name  \\\n",
       "0      Battle of Nashville Stewart's Line   \n",
       "1          University School of Nashville   \n",
       "2  May-granbery House and Alford Cemetery   \n",
       "3                 Meharry Medical College   \n",
       "4                         Madison College   \n",
       "\n",
       "                                         marker_text   longitude year_erected  \\\n",
       "0  Loring's division of Stewart's Corps, Hood's C...  -86.791167         1968   \n",
       "1  Founded in 1915 as the successor to The Winthr...  -86.798228         1992   \n",
       "2  Revolutionary War Pvt. John Alford built a two...  -86.754991         2018   \n",
       "3  Meharry Medical College, established in 1876 t...  -86.805937         1969   \n",
       "4  Madison College was founded in 1904 as Nashvil...  -86.683834         1970   \n",
       "\n",
       "  condition               notes civil_war_site                    geometry  \n",
       "0      None                None           TRUE  POINT (-86.79117 36.08631)  \n",
       "1      None                None           None  POINT (-86.79823 36.14399)  \n",
       "2      None  Council District 4           None  POINT (-86.75499 36.04780)  \n",
       "3      None       replaced 2012           None  POINT (-86.80594 36.16677)  \n",
       "4      None                None           None  POINT (-86.68383 36.25054)  "
      ]
     },
     "execution_count": 2,
     "metadata": {},
     "output_type": "execute_result"
    }
   ],
   "source": [
    "markers = gpd.read_file('../data/Historical Markers.geojson')\n",
    "print(markers.crs)\n",
    "markers.head( )"
   ]
  },
  {
   "cell_type": "code",
   "execution_count": 3,
   "id": "21129176",
   "metadata": {},
   "outputs": [
    {
     "data": {
      "text/plain": [
       "geopandas.geodataframe.GeoDataFrame"
      ]
     },
     "execution_count": 3,
     "metadata": {},
     "output_type": "execute_result"
    }
   ],
   "source": [
    "type(markers)"
   ]
  },
  {
   "cell_type": "code",
   "execution_count": 6,
   "id": "018b9c1c",
   "metadata": {},
   "outputs": [
    {
     "data": {
      "image/svg+xml": [
       "<svg xmlns=\"http://www.w3.org/2000/svg\" xmlns:xlink=\"http://www.w3.org/1999/xlink\" width=\"100.0\" height=\"100.0\" viewBox=\"-87.791167 35.086311 2.0 2.0\" preserveAspectRatio=\"xMinYMin meet\"><g transform=\"matrix(1,0,0,-1,0,72.172622)\"><circle cx=\"-86.791167\" cy=\"36.086311\" r=\"0.06\" stroke=\"#555555\" stroke-width=\"0.02\" fill=\"#66cc99\" opacity=\"0.6\" /></g></svg>"
      ],
      "text/plain": [
       "<shapely.geometry.point.Point at 0x202e0430c40>"
      ]
     },
     "execution_count": 6,
     "metadata": {},
     "output_type": "execute_result"
    }
   ],
   "source": [
    "markers.loc[0, 'geometry']"
   ]
  },
  {
   "cell_type": "code",
   "execution_count": 7,
   "id": "86782316",
   "metadata": {},
   "outputs": [
    {
     "name": "stdout",
     "output_type": "stream",
     "text": [
      "POINT (-86.791167 36.086311)\n"
     ]
    }
   ],
   "source": [
    "print(markers.loc[0, 'geometry'])"
   ]
  },
  {
   "cell_type": "code",
   "execution_count": 8,
   "id": "fd606fd8",
   "metadata": {},
   "outputs": [
    {
     "data": {
      "image/png": "[encoded data removed]",
      "text/plain": [
       "<Figure size 432x288 with 1 Axes>"
      ]
     },
     "metadata": {
      "needs_background": "light"
     },
     "output_type": "display_data"
    }
   ],
   "source": [
    "markers.plot();"
   ]
  },
  {
   "cell_type": "code",
   "execution_count": 13,
   "id": "6ea466f1",
   "metadata": {},
   "outputs": [
    {
     "name": "stdout",
     "output_type": "stream",
     "text": [
      "(2578, 8)\n"
     ]
    },
    {
     "data": {
      "text/html": [
       "<div>\n",
       "<style scoped>\n",
       "    .dataframe tbody tr th:only-of-type {\n",
       "        vertical-align: middle;\n",
       "    }\n",
       "\n",
       "    .dataframe tbody tr th {\n",
       "        vertical-align: top;\n",
       "    }\n",
       "\n",
       "    .dataframe thead th {\n",
       "        text-align: right;\n",
       "    }\n",
       "</style>\n",
       "<table border=\"1\" class=\"dataframe\">\n",
       "  <thead>\n",
       "    <tr style=\"text-align: right;\">\n",
       "      <th></th>\n",
       "      <th>Stop ID</th>\n",
       "      <th>Stop Abbreviation</th>\n",
       "      <th>Stop Name</th>\n",
       "      <th>Shelter?</th>\n",
       "      <th>Bench?</th>\n",
       "      <th>Route Numbers</th>\n",
       "      <th>Route Name</th>\n",
       "      <th>Mapped Location</th>\n",
       "    </tr>\n",
       "  </thead>\n",
       "  <tbody>\n",
       "    <tr>\n",
       "      <th>0</th>\n",
       "      <td>5120</td>\n",
       "      <td>7AVUNINN</td>\n",
       "      <td>7TH AVE &amp; UNION ST NB</td>\n",
       "      <td>False</td>\n",
       "      <td>False</td>\n",
       "      <td>NaN</td>\n",
       "      <td>AIRPORT - DOWNTOWN HOTELS</td>\n",
       "      <td>NaN</td>\n",
       "    </tr>\n",
       "    <tr>\n",
       "      <th>1</th>\n",
       "      <td>5455</td>\n",
       "      <td>CM5_4</td>\n",
       "      <td>Temporary Bay 4</td>\n",
       "      <td>False</td>\n",
       "      <td>False</td>\n",
       "      <td>NaN</td>\n",
       "      <td>HERMAN</td>\n",
       "      <td>NaN</td>\n",
       "    </tr>\n",
       "    <tr>\n",
       "      <th>2</th>\n",
       "      <td>2762</td>\n",
       "      <td>23ACLASF</td>\n",
       "      <td>23RD AVE N &amp; CLARKSVILLE PIKE SB</td>\n",
       "      <td>False</td>\n",
       "      <td>False</td>\n",
       "      <td>22</td>\n",
       "      <td>BORDEAUX</td>\n",
       "      <td>NaN</td>\n",
       "    </tr>\n",
       "  </tbody>\n",
       "</table>\n",
       "</div>"
      ],
      "text/plain": [
       "   Stop ID Stop Abbreviation                         Stop Name  Shelter?  \\\n",
       "0     5120          7AVUNINN             7TH AVE & UNION ST NB     False   \n",
       "1     5455             CM5_4                   Temporary Bay 4     False   \n",
       "2     2762          23ACLASF  23RD AVE N & CLARKSVILLE PIKE SB     False   \n",
       "\n",
       "   Bench? Route Numbers                 Route Name Mapped Location  \n",
       "0   False           NaN  AIRPORT - DOWNTOWN HOTELS             NaN  \n",
       "1   False           NaN                     HERMAN             NaN  \n",
       "2   False            22                   BORDEAUX             NaN  "
      ]
     },
     "execution_count": 13,
     "metadata": {},
     "output_type": "execute_result"
    }
   ],
   "source": [
    "bus_stops = pd.read_csv('../data/WeGo_Transit_Bus_Stops (1).csv')\n",
    "print(bus_stops.shape)\n",
    "bus_stops.head(3)"
   ]
  },
  {
   "cell_type": "code",
   "execution_count": null,
   "id": "8a39ab02",
   "metadata": {},
   "outputs": [],
   "source": []
  }
 ],
 "metadata": {
  "kernelspec": {
   "display_name": "Python 3 (ipykernel)",
   "language": "python",
   "name": "python3"
  },
  "language_info": {
   "codemirror_mode": {
    "name": "ipython",
    "version": 3
   },
   "file_extension": ".py",
   "mimetype": "text/x-python",
   "name": "python",
   "nbconvert_exporter": "python",
   "pygments_lexer": "ipython3",
   "version": "3.8.5"
  }
 },
 "nbformat": 4,
 "nbformat_minor": 5
}
